{
  "nbformat": 4,
  "nbformat_minor": 0,
  "metadata": {
    "colab": {
      "provenance": [],
      "authorship_tag": "ABX9TyPRvwwx+v1IwAPVpjhmpA6h",
      "include_colab_link": true
    },
    "kernelspec": {
      "name": "python3",
      "display_name": "Python 3"
    },
    "language_info": {
      "name": "python"
    }
  },
  "cells": [
    {
      "cell_type": "markdown",
      "metadata": {
        "id": "view-in-github",
        "colab_type": "text"
      },
      "source": [
        "<a href=\"https://colab.research.google.com/github/Aya11ali/Shouf/blob/main/Clean_recommendation_system.ipynb\" target=\"_parent\"><img src=\"https://colab.research.google.com/assets/colab-badge.svg\" alt=\"Open In Colab\"/></a>"
      ]
    },
    {
      "cell_type": "code",
      "source": [
        "!pip install -q  --upgrade --force-reinstall gensim\n"
      ],
      "metadata": {
        "id": "dN9ER_XOakwy",
        "colab": {
          "base_uri": "https://localhost:8080/"
        },
        "outputId": "478bf78d-82c5-4d7c-b23a-de27357fc955"
      },
      "execution_count": 1,
      "outputs": [
        {
          "output_type": "stream",
          "name": "stdout",
          "text": [
            "\u001b[2K     \u001b[90m━━━━━━━━━━━━━━━━━━━━━━━━━━━━━━━━━━━━━━━━\u001b[0m \u001b[32m61.0/61.0 kB\u001b[0m \u001b[31m2.2 MB/s\u001b[0m eta \u001b[36m0:00:00\u001b[0m\n",
            "\u001b[2K     \u001b[90m━━━━━━━━━━━━━━━━━━━━━━━━━━━━━━━━━━━━━━━━\u001b[0m \u001b[32m60.6/60.6 kB\u001b[0m \u001b[31m2.3 MB/s\u001b[0m eta \u001b[36m0:00:00\u001b[0m\n",
            "\u001b[2K   \u001b[90m━━━━━━━━━━━━━━━━━━━━━━━━━━━━━━━━━━━━━━━━\u001b[0m \u001b[32m26.7/26.7 MB\u001b[0m \u001b[31m73.8 MB/s\u001b[0m eta \u001b[36m0:00:00\u001b[0m\n",
            "\u001b[2K   \u001b[90m━━━━━━━━━━━━━━━━━━━━━━━━━━━━━━━━━━━━━━━━\u001b[0m \u001b[32m18.3/18.3 MB\u001b[0m \u001b[31m91.0 MB/s\u001b[0m eta \u001b[36m0:00:00\u001b[0m\n",
            "\u001b[2K   \u001b[90m━━━━━━━━━━━━━━━━━━━━━━━━━━━━━━━━━━━━━━━━\u001b[0m \u001b[32m38.6/38.6 MB\u001b[0m \u001b[31m16.2 MB/s\u001b[0m eta \u001b[36m0:00:00\u001b[0m\n",
            "\u001b[2K   \u001b[90m━━━━━━━━━━━━━━━━━━━━━━━━━━━━━━━━━━━━━━━━\u001b[0m \u001b[32m61.7/61.7 kB\u001b[0m \u001b[31m3.5 MB/s\u001b[0m eta \u001b[36m0:00:00\u001b[0m\n",
            "\u001b[2K   \u001b[90m━━━━━━━━━━━━━━━━━━━━━━━━━━━━━━━━━━━━━━━━\u001b[0m \u001b[32m83.2/83.2 kB\u001b[0m \u001b[31m4.7 MB/s\u001b[0m eta \u001b[36m0:00:00\u001b[0m\n",
            "\u001b[?25h\u001b[31mERROR: pip's dependency resolver does not currently take into account all the packages that are installed. This behaviour is the source of the following dependency conflicts.\n",
            "thinc 8.3.6 requires numpy<3.0.0,>=2.0.0, but you have numpy 1.26.4 which is incompatible.\u001b[0m\u001b[31m\n",
            "\u001b[0m"
          ]
        }
      ]
    },
    {
      "cell_type": "code",
      "source": [
        "!pip install -q pandas==2.2.2 --force-reinstall"
      ],
      "metadata": {
        "colab": {
          "base_uri": "https://localhost:8080/",
          "height": 1000
        },
        "id": "nWGKH22gdpX0",
        "outputId": "6f96eaf7-c72e-4fcb-eabf-31033d77a785"
      },
      "execution_count": 5,
      "outputs": [
        {
          "output_type": "stream",
          "name": "stdout",
          "text": [
            "Collecting pandas==2.2.2\n",
            "  Downloading pandas-2.2.2-cp311-cp311-manylinux_2_17_x86_64.manylinux2014_x86_64.whl.metadata (19 kB)\n",
            "Collecting numpy>=1.23.2 (from pandas==2.2.2)\n",
            "  Downloading numpy-2.2.5-cp311-cp311-manylinux_2_17_x86_64.manylinux2014_x86_64.whl.metadata (62 kB)\n",
            "\u001b[2K     \u001b[90m━━━━━━━━━━━━━━━━━━━━━━━━━━━━━━━━━━━━━━━━\u001b[0m \u001b[32m62.0/62.0 kB\u001b[0m \u001b[31m2.3 MB/s\u001b[0m eta \u001b[36m0:00:00\u001b[0m\n",
            "\u001b[?25hCollecting python-dateutil>=2.8.2 (from pandas==2.2.2)\n",
            "  Downloading python_dateutil-2.9.0.post0-py2.py3-none-any.whl.metadata (8.4 kB)\n",
            "Collecting pytz>=2020.1 (from pandas==2.2.2)\n",
            "  Downloading pytz-2025.2-py2.py3-none-any.whl.metadata (22 kB)\n",
            "Collecting tzdata>=2022.7 (from pandas==2.2.2)\n",
            "  Downloading tzdata-2025.2-py2.py3-none-any.whl.metadata (1.4 kB)\n",
            "Collecting six>=1.5 (from python-dateutil>=2.8.2->pandas==2.2.2)\n",
            "  Downloading six-1.17.0-py2.py3-none-any.whl.metadata (1.7 kB)\n",
            "Downloading pandas-2.2.2-cp311-cp311-manylinux_2_17_x86_64.manylinux2014_x86_64.whl (13.0 MB)\n",
            "\u001b[2K   \u001b[90m━━━━━━━━━━━━━━━━━━━━━━━━━━━━━━━━━━━━━━━━\u001b[0m \u001b[32m13.0/13.0 MB\u001b[0m \u001b[31m85.1 MB/s\u001b[0m eta \u001b[36m0:00:00\u001b[0m\n",
            "\u001b[?25hDownloading numpy-2.2.5-cp311-cp311-manylinux_2_17_x86_64.manylinux2014_x86_64.whl (16.4 MB)\n",
            "\u001b[2K   \u001b[90m━━━━━━━━━━━━━━━━━━━━━━━━━━━━━━━━━━━━━━━━\u001b[0m \u001b[32m16.4/16.4 MB\u001b[0m \u001b[31m67.9 MB/s\u001b[0m eta \u001b[36m0:00:00\u001b[0m\n",
            "\u001b[?25hDownloading python_dateutil-2.9.0.post0-py2.py3-none-any.whl (229 kB)\n",
            "\u001b[2K   \u001b[90m━━━━━━━━━━━━━━━━━━━━━━━━━━━━━━━━━━━━━━━━\u001b[0m \u001b[32m229.9/229.9 kB\u001b[0m \u001b[31m17.8 MB/s\u001b[0m eta \u001b[36m0:00:00\u001b[0m\n",
            "\u001b[?25hDownloading pytz-2025.2-py2.py3-none-any.whl (509 kB)\n",
            "\u001b[2K   \u001b[90m━━━━━━━━━━━━━━━━━━━━━━━━━━━━━━━━━━━━━━━━\u001b[0m \u001b[32m509.2/509.2 kB\u001b[0m \u001b[31m28.8 MB/s\u001b[0m eta \u001b[36m0:00:00\u001b[0m\n",
            "\u001b[?25hDownloading tzdata-2025.2-py2.py3-none-any.whl (347 kB)\n",
            "\u001b[2K   \u001b[90m━━━━━━━━━━━━━━━━━━━━━━━━━━━━━━━━━━━━━━━━\u001b[0m \u001b[32m347.8/347.8 kB\u001b[0m \u001b[31m24.8 MB/s\u001b[0m eta \u001b[36m0:00:00\u001b[0m\n",
            "\u001b[?25hDownloading six-1.17.0-py2.py3-none-any.whl (11 kB)\n",
            "Installing collected packages: pytz, tzdata, six, numpy, python-dateutil, pandas\n",
            "  Attempting uninstall: pytz\n",
            "    Found existing installation: pytz 2025.2\n",
            "    Uninstalling pytz-2025.2:\n",
            "      Successfully uninstalled pytz-2025.2\n",
            "  Attempting uninstall: tzdata\n",
            "    Found existing installation: tzdata 2025.2\n",
            "    Uninstalling tzdata-2025.2:\n",
            "      Successfully uninstalled tzdata-2025.2\n",
            "  Attempting uninstall: six\n",
            "    Found existing installation: six 1.17.0\n",
            "    Uninstalling six-1.17.0:\n",
            "      Successfully uninstalled six-1.17.0\n",
            "  Attempting uninstall: numpy\n",
            "    Found existing installation: numpy 1.26.4\n",
            "    Uninstalling numpy-1.26.4:\n",
            "      Successfully uninstalled numpy-1.26.4\n",
            "  Attempting uninstall: python-dateutil\n",
            "    Found existing installation: python-dateutil 2.9.0.post0\n",
            "    Uninstalling python-dateutil-2.9.0.post0:\n",
            "      Successfully uninstalled python-dateutil-2.9.0.post0\n",
            "  Attempting uninstall: pandas\n",
            "    Found existing installation: pandas 2.2.3\n",
            "    Uninstalling pandas-2.2.3:\n",
            "      Successfully uninstalled pandas-2.2.3\n",
            "\u001b[31mERROR: pip's dependency resolver does not currently take into account all the packages that are installed. This behaviour is the source of the following dependency conflicts.\n",
            "gensim 4.3.3 requires numpy<2.0,>=1.18.5, but you have numpy 2.2.5 which is incompatible.\n",
            "numba 0.60.0 requires numpy<2.1,>=1.22, but you have numpy 2.2.5 which is incompatible.\n",
            "tensorflow 2.18.0 requires numpy<2.1.0,>=1.26.0, but you have numpy 2.2.5 which is incompatible.\u001b[0m\u001b[31m\n",
            "\u001b[0mSuccessfully installed numpy-2.2.5 pandas-2.2.2 python-dateutil-2.9.0.post0 pytz-2025.2 six-1.17.0 tzdata-2025.2\n"
          ]
        },
        {
          "output_type": "display_data",
          "data": {
            "application/vnd.colab-display-data+json": {
              "pip_warning": {
                "packages": [
                  "dateutil",
                  "pytz",
                  "six"
                ]
              },
              "id": "40429605ec594858a0a67d31ac784ea2"
            }
          },
          "metadata": {}
        }
      ]
    },
    {
      "cell_type": "code",
      "execution_count": 24,
      "metadata": {
        "id": "0dWFpbczaUY_"
      },
      "outputs": [],
      "source": [
        "import pandas as pd\n",
        "import numpy as np\n",
        "from abc import ABC, abstractmethod\n",
        "from typing import List, Iterable, Dict\n",
        "\n",
        "from scipy.sparse import csr_matrix\n",
        "from sklearn.neighbors import NearestNeighbors\n",
        "from sklearn.model_selection import train_test_split\n",
        "from sklearn.metrics.pairwise import cosine_similarity\n",
        "from scipy.sparse.linalg import svds\n",
        "\n",
        "# import os\n",
        "# import gensim.downloader as api\n",
        "# import torch\n",
        "# from gensim.models import KeyedVectors\n",
        "\n",
        "\n",
        "# import nltk\n",
        "# from nltk.tokenize import word_tokenize\n",
        "# from nltk.corpus import stopwords\n",
        "# from sklearn.feature_extraction.text import TfidfVectorizer"
      ]
    },
    {
      "cell_type": "markdown",
      "source": [
        "# Preparing Data"
      ],
      "metadata": {
        "id": "aor3QMPAkdmo"
      }
    },
    {
      "cell_type": "markdown",
      "source": [
        "The following module defines the interface and implementation for loading and shuffling a dataset from a CSV file.\n",
        "\n",
        "It includes an abstract base class\n",
        "```ILoad_and_shuffle_Dataset```\n",
        ", which outlines the essential methods for loading and shuffling data, and the concrete implementation ```Load_and_shuffle_Dataset```\n",
        ", which implements these methods and provides functionality for reproducible shuffling using a random seed.\n"
      ],
      "metadata": {
        "id": "NcsY3OPmI6JF"
      }
    },
    {
      "cell_type": "code",
      "source": [
        "class ILoad_and_shuffle_Dataset(ABC):\n",
        "  @abstractmethod\n",
        "  def load_dataset(self):\n",
        "    pass\n",
        "\n",
        "  @abstractmethod\n",
        "  def shuffle_data(self):\n",
        "    pass\n",
        "\n",
        "class Load_and_shuffle_Dataset(ILoad_and_shuffle_Dataset):\n",
        "  def __init__(self,dataset_path:str,random_seed:int=42):\n",
        "    self.random_seed = random_seed\n",
        "    np.random.seed(self.random_seed) # Set seed for NumPy's random number generator to ensure reproducible results\n",
        "    self.dataset_path = dataset_path\n",
        "    self.df = None\n",
        "    self.load_dataset()\n",
        "    self.shuffle_data()\n",
        "\n",
        "\n",
        "  def load_dataset(self):\n",
        "    self.df = pd.read_csv(self.dataset_path)\n",
        "\n",
        "  def shuffle_data(self):\n",
        "    self.df = self.df.sample(frac=1, random_state=self.random_seed).reset_index(drop=True)"
      ],
      "metadata": {
        "id": "FY6hQMCPkdLf"
      },
      "execution_count": 2,
      "outputs": []
    },
    {
      "cell_type": "markdown",
      "source": [
        "The following module defines a structure for calculating interaction scores in a dataset based on different user actions (e.g., \"watch\", \"like\", \"comment\", \"subscribe\"). It uses a column-matching strategy to identify relevant columns, applies weights to interaction types, and computes a final score for each record."
      ],
      "metadata": {
        "id": "dtc8PjdoKCyA"
      }
    },
    {
      "cell_type": "code",
      "source": [
        "class IInteractionScorer(ABC):\n",
        "    @abstractmethod\n",
        "    def compute_interaction_score(self):\n",
        "        pass\n",
        "\n",
        "\n",
        "class ColumnMatcher(ABC):\n",
        "    @abstractmethod\n",
        "    def match_columns(self, df_columns, interaction_type):\n",
        "        pass\n",
        "\n",
        "\n",
        "class SubstringMatcher(ColumnMatcher):\n",
        "    def match_columns(self, df_columns, interaction_type=None):\n",
        "        if interaction_type is None:\n",
        "            raise ValueError(\"interaction_type must be provided\")\n",
        "        return [col for col in df_columns if interaction_type in col]\n",
        "\n",
        "\n",
        "class InteractionScorer(IInteractionScorer):\n",
        "    def __init__(self, dataframe, weights:dict=None, matcher: ColumnMatcher = SubstringMatcher):\n",
        "        self.df = dataframe\n",
        "        self.weights = weights or {\n",
        "            \"watch\": 1,\n",
        "            \"like\": 2,\n",
        "            \"comment\": 3,\n",
        "            \"subscribe\": 5\n",
        "        }\n",
        "        self.matcher = matcher()\n",
        "        self.compute_interaction_score()\n",
        "\n",
        "    def compute_interaction_score(self):\n",
        "        interaction_score = 0\n",
        "        for interaction_type, weight in self.weights.items():\n",
        "            matched_cols = self.matcher.match_columns(self.df.columns, interaction_type)\n",
        "            for col in matched_cols:\n",
        "                interaction_score += self.df[col] * weight\n",
        "        self.df[\"interaction_score\"] = interaction_score\n"
      ],
      "metadata": {
        "id": "GF2wDkvrn2ne"
      },
      "execution_count": 3,
      "outputs": []
    },
    {
      "cell_type": "code",
      "source": [
        "class DataPreparingManager:\n",
        "  def __init__(self, loader:ILoad_and_shuffle_Dataset, dataset_path:str,score:IInteractionScorer):\n",
        "    self.loader = loader(dataset_path)\n",
        "    self.df = self.loader.df\n",
        "    self.interaction_score = score(self.df)\n",
        "\n",
        "  def prepare_data(self):\n",
        "    return self.df"
      ],
      "metadata": {
        "id": "LolC3gbm24Qr"
      },
      "execution_count": 4,
      "outputs": []
    },
    {
      "cell_type": "markdown",
      "source": [
        "# Collaborative Filtering Recommendation System"
      ],
      "metadata": {
        "id": "jqKvslPxGn3S"
      }
    },
    {
      "cell_type": "markdown",
      "source": [
        "The following  module defines an abstract interface and a concrete implementation for creating a ***User-Item interaction*** matrix from a given dataset.\n",
        "\n",
        "`UserItemMatrix` (Concrete Implementation)\n",
        "\n",
        "\n",
        "Implements `IUserItemMatrix` to generate a matrix from a DataFrame using specified rows, columns, and values.\n",
        "\n",
        "**Constructor Parameters:**\n",
        "\n",
        "`dataframe` (pd.DataFrame): Input dataset.\n",
        "\n",
        "`row` (str): Column to use as index (e.g., user_id).\n",
        "\n",
        "`column` (str): Column to use as columns (e.g., video_id).\n",
        "\n",
        "`values` (str): Column containing interaction values (e.g., interaction_score)."
      ],
      "metadata": {
        "id": "LxkX1pOiYAqt"
      }
    },
    {
      "cell_type": "code",
      "source": [
        "class IUserItemMatrix(ABC):\n",
        "  @abstractmethod\n",
        "  def create_user_item_matrix(self)->pd.DataFrame:\n",
        "    pass\n",
        "\n",
        "class UserItemMatrix(IUserItemMatrix):\n",
        "  def __init__(self, dataframe:pd.DataFrame, row:str, column:str, values:str):\n",
        "    self.df = dataframe\n",
        "    self.row = row\n",
        "    self.column = column\n",
        "    self.values = values\n",
        "\n",
        "  def create_user_item_matrix(self)->pd.DataFrame:\n",
        "    if self.row not in self.df.columns or self.column not in self.df.columns:\n",
        "        raise InvalidMatrixError(f\"Invalid columns: {self.row} or {self.column} not found in the dataframe.\")\n",
        "\n",
        "    return self.df.pivot(index=self.row, columns=self.column, values=self.values).fillna(0)\n",
        "\n",
        "  @property\n",
        "  def matrix(self) -> pd.DataFrame:\n",
        "      return self.create_user_item_matrix()"
      ],
      "metadata": {
        "id": "j4UZ4MWhG2pO"
      },
      "execution_count": 5,
      "outputs": []
    },
    {
      "cell_type": "markdown",
      "source": [
        "The following  module defines an interface and implementation for converting a dense matrix into a sparse matrix format"
      ],
      "metadata": {
        "id": "w8SAfqlZbpgL"
      }
    },
    {
      "cell_type": "code",
      "source": [
        "class ISparseMatrixConverter(ABC):\n",
        "    @abstractmethod\n",
        "    def create_sparse_matrix(self)  -> csr_matrix:\n",
        "        pass\n",
        "\n",
        "class SparseMatrixConverter(ISparseMatrixConverter):\n",
        "    def __init__(self, dense_matrix: pd.DataFrame):\n",
        "        self.df = dense_matrix\n",
        "        self._sparse_matrix = None\n",
        "\n",
        "    def create_sparse_matrix(self)  -> csr_matrix:\n",
        "        if self._sparse_matrix is None:\n",
        "            self._sparse_matrix = csr_matrix(self.df.values)\n",
        "        return self._sparse_matrix\n",
        "\n",
        "    @property\n",
        "    def sparse_matrix(self):\n",
        "        return self.create_sparse_matrix()"
      ],
      "metadata": {
        "id": "juG4qMy2Yz8v"
      },
      "execution_count": 31,
      "outputs": []
    },
    {
      "cell_type": "markdown",
      "source": [
        "The following module Trains a K-Nearest Neighbors (KNN) model on a given sparse user-item interaction matrix, supporting custom similarity metrics and algorithms for building recommender systems."
      ],
      "metadata": {
        "id": "e77W9GSHnROn"
      }
    },
    {
      "cell_type": "code",
      "source": [
        "class IKNNModelTrainer(ABC):\n",
        "    @abstractmethod\n",
        "    def train_model(self) -> NearestNeighbors:\n",
        "        pass\n",
        "\n",
        "class KNNModelTrainer(IKNNModelTrainer):\n",
        "    def __init__(self, sparse_matrix: csr_matrix, metric: str = \"cosine\",\n",
        "                 algorithm: str = \"brute\"):\n",
        "        self.sparse_matrix = sparse_matrix\n",
        "        self.metric = metric\n",
        "        self.algorithm = algorithm\n",
        "        self._model = None\n",
        "\n",
        "    def train_model(self) -> NearestNeighbors:\n",
        "      try:\n",
        "          if self._model is None:\n",
        "              self._model = NearestNeighbors(metric=self.metric,\n",
        "                                             algorithm=self.algorithm)\n",
        "              self._model.fit(self.sparse_matrix)\n",
        "\n",
        "      except Exception as e:\n",
        "          raise TrainingError(f\"Model training failed: {e}\")\n",
        "\n",
        "      return self._model\n",
        "\n",
        "    @property\n",
        "    def model(self) -> NearestNeighbors:\n",
        "        return self.train_model()\n"
      ],
      "metadata": {
        "id": "AVWiaNr1crGD"
      },
      "execution_count": 7,
      "outputs": []
    },
    {
      "cell_type": "markdown",
      "source": [
        "The following class Validates whether a given user_id exists in the user-item interaction matrix, ensuring the user has interacted with the system and that the matrix is properly initialized."
      ],
      "metadata": {
        "id": "OLGlxo5NnftY"
      }
    },
    {
      "cell_type": "code",
      "source": [
        "# class IUserInteractionChecker(ABC):\n",
        "  @abstractmethod\n",
        "#   def check_user_interaction(self)->bool:\n",
        "#     pass\n",
        "\n",
        "# class UserInteractionChecker(IUserInteractionChecker):\n",
        "#   def __init__ (self, user_id:int, user_item_matrix:pd.DataFrame):\n",
        "#     self.user_id = user_id\n",
        "#     self.user_item_matrix = user_item_matrix\n",
        "\n",
        "#   def check_user_interaction(self) -> bool:\n",
        "#       if self.user_item_matrix is None or self.user_item_matrix.empty:\n",
        "#           raise InvalidMatrixError(\"User-Item matrix is empty or not initialized.\")\n",
        "\n",
        "#       if self.user_id not in self.user_item_matrix.index:\n",
        "#           raise InvalidUserIdError(self.user_id)\n",
        "#       return True\n",
        "\n",
        "\n",
        "class IUserInteractionChecker(ABC):\n",
        "    @abstractmethod\n",
        "    def check_user_interaction(self, user_id: int, user_item_matrix: pd.DataFrame) -> bool:\n",
        "        pass\n",
        "\n",
        "class UserInteractionChecker(IUserInteractionChecker):\n",
        "    def check_user_interaction(self, user_id: int, user_item_matrix: pd.DataFrame) -> bool:\n",
        "        if user_item_matrix is None or user_item_matrix.empty:\n",
        "            raise InvalidMatrixError(\"User-Item matrix is empty or not initialized.\")\n",
        "        if user_id not in user_item_matrix.index:\n",
        "            raise InvalidUserIdError(user_id)\n",
        "        return True\n"
      ],
      "metadata": {
        "id": "KAR93o8YNpwr"
      },
      "execution_count": 8,
      "outputs": []
    },
    {
      "cell_type": "markdown",
      "source": [
        "The following class retrieves the index position of a given `user_id` within a user-item matrix, typically used as input for recommendation models"
      ],
      "metadata": {
        "id": "o1Tytu81nr0Z"
      }
    },
    {
      "cell_type": "code",
      "source": [
        "class IUserIndexFinder(ABC):\n",
        "    @abstractmethod\n",
        "    def _find_user_index(self) -> int:\n",
        "        \"\"\"Finds the index of the user in the user-item matrix.\"\"\"\n",
        "        pass\n",
        "\n",
        "    @property\n",
        "    @abstractmethod\n",
        "    def index(self):\n",
        "        pass\n",
        "\n",
        "class UserIndexFinder(IUserIndexFinder):\n",
        "    def __init__(self, user_id: int, user_item_matrix: pd.DataFrame, user_check: IUserInteractionChecker):\n",
        "        self.user_id = user_id\n",
        "        self.user_item_matrix = user_item_matrix\n",
        "        self.user_check = user_check\n",
        "\n",
        "    def _find_user_index(self) -> int:\n",
        "        # Check user interaction when needed\n",
        "        self.user_check.check_user_interaction(self.user_id, self.user_item_matrix)\n",
        "\n",
        "        return self.user_item_matrix.index.get_loc(self.user_id)\n",
        "\n",
        "    @property\n",
        "    def index(self) -> int:\n",
        "        return self._find_user_index()\n"
      ],
      "metadata": {
        "id": "pO2an0dgQCtI"
      },
      "execution_count": 9,
      "outputs": []
    },
    {
      "cell_type": "markdown",
      "source": [
        "The following class finds and provides a list of similar users for a given `user_id`, based on a user-item matrix and a K-Nearest Neighbors (KNN) model."
      ],
      "metadata": {
        "id": "WXspBDCgn6Ys"
      }
    },
    {
      "cell_type": "code",
      "source": [
        "class ISimilarUserFinder(ABC):\n",
        "  @abstractmethod\n",
        "  def find_similar_users(self, n_neighbors: int = 5) -> np.ndarray:\n",
        "      \"\"\"Returns indices of similar users for a given user ID.\"\"\"\n",
        "      pass\n",
        "\n",
        "  @property\n",
        "  @abstractmethod\n",
        "  def similar_users(self) -> np.ndarray:\n",
        "      \"\"\"Returns cached similar users.\"\"\"\n",
        "      pass\n",
        "\n",
        "class SimilarUserFinder(ISimilarUserFinder):\n",
        "  def __init__(self, user_id: int, knn_model, user_item_matrix: pd.DataFrame,\n",
        "              user_index: IUserIndexFinder, user_check: IUserInteractionChecker):\n",
        "      self.user_id = user_id\n",
        "      self.knn_model = knn_model\n",
        "      self.user_item_matrix = user_item_matrix\n",
        "      self.user_check = user_check\n",
        "      self.user_index = user_index\n",
        "      self._similar_users = None\n",
        "\n",
        "      self.user_check.check_user_interaction(self.user_id, self.user_item_matrix)\n",
        "      self._user_index = self.user_index.index\n",
        "\n",
        "  def find_similar_users(self, n_neighbors: int = 5) -> np.ndarray:\n",
        "\n",
        "      if self.knn_model is None:\n",
        "          raise RecommendationSystemError(\"KNN model is not provided.\")\n",
        "\n",
        "      # Get the user vector\n",
        "      user_vector = self.user_item_matrix.iloc[self._user_index].values.reshape(1, -1)\n",
        "\n",
        "      # Find neighbors\n",
        "      distances, indices = self.knn_model.kneighbors(user_vector,\n",
        "                                                     n_neighbors=n_neighbors + 1)\n",
        "\n",
        "      # Exclude the first index (it will be the user itself)\n",
        "      self._similar_users = indices[0][1:]\n",
        "      return self._similar_users\n",
        "\n",
        "  @property\n",
        "  def similar_users(self) -> np.ndarray:\n",
        "    if self._similar_users is None:\n",
        "        return self.find_similar_users()\n",
        "    return self._similar_users"
      ],
      "metadata": {
        "id": "jSPUS1EHZU9k"
      },
      "execution_count": 33,
      "outputs": []
    },
    {
      "cell_type": "markdown",
      "source": [
        "The following class provides user-based collaborative filtering recommendations. The class uses the similar users' interactions with items to recommend items to a given user, excluding items the user has already interacted with."
      ],
      "metadata": {
        "id": "VqDd8H6WoLLz"
      }
    },
    {
      "cell_type": "code",
      "source": [
        "class IUserBasedRecommender(ABC):\n",
        "    @abstractmethod\n",
        "    def recommend(self, top_n: int = 5) -> List[int]:\n",
        "        \"\"\"Returns a list of item IDs recommended for the user.\"\"\"\n",
        "        pass\n",
        "\n",
        "class UserBasedRecommender(IUserBasedRecommender):\n",
        "    def __init__(self, user_id: int, user_item_matrix: pd.DataFrame,\n",
        "                 similar_user_finder: ISimilarUserFinder):\n",
        "        self.user_id = user_id\n",
        "        self.user_item_matrix = user_item_matrix\n",
        "        self.similar_user_finder = similar_user_finder\n",
        "\n",
        "    def recommend(self, top_n: int = 5) -> List[int]:\n",
        "        # Get similar user indices\n",
        "        similar_user_indices = self.similar_user_finder.similar_users\n",
        "\n",
        "        # Get item interactions of those users\n",
        "        similar_users_matrix = self.user_item_matrix.iloc[similar_user_indices]\n",
        "\n",
        "        # Sum interactions across similar users\n",
        "        item_scores = similar_users_matrix.sum(axis=0)\n",
        "\n",
        "        # Get items current user has already interacted with\n",
        "        user_interactions = self.user_item_matrix.loc[self.user_id]\n",
        "\n",
        "        # Filter out items the user already interacted with\n",
        "        unseen_items = item_scores[user_interactions == 0]\n",
        "\n",
        "        # Sort and return top N recommendations\n",
        "        top_items = unseen_items.sort_values(ascending=False).head(top_n)\n",
        "\n",
        "        return top_items.index.tolist()\n"
      ],
      "metadata": {
        "id": "ky4dRThSiKTP"
      },
      "execution_count": 17,
      "outputs": []
    },
    {
      "cell_type": "markdown",
      "source": [
        "## Item based recommendation system  "
      ],
      "metadata": {
        "id": "aFyk6KHuFGZy"
      }
    },
    {
      "cell_type": "code",
      "source": [
        "class IItemSimilarityFinder(ABC):\n",
        "    @abstractmethod\n",
        "    def find_similar_items(self, n_neighbors: int = 5) -> np.ndarray:\n",
        "      \"\"\"Finds and returns similar items to the given item ID.\"\"\"\n",
        "      pass\n",
        "\n",
        "class ItemSimilarityFinder(IItemSimilarityFinder):\n",
        "    def __init__(self, item_id: int, item_user_matrix: pd.DataFrame, knn_model: NearestNeighbors):\n",
        "        self.item_user_matrix = item_user_matrix\n",
        "        self.knn_model = knn_model\n",
        "        self.item_id = item_id\n",
        "        self._similar_videos = None\n",
        "\n",
        "    def find_similar_items(self, n_neighbors: int = 5) -> np.ndarray:\n",
        "        if self.item_id not in self.item_user_matrix.index:\n",
        "            raise InvalidVideoIdError(self.item_id)\n",
        "\n",
        "        item_vector = self.item_user_matrix.loc[self.item_id].values.reshape(1, -1)\n",
        "        distances, indices = self.knn_model.kneighbors(item_vector, n_neighbors=n_neighbors + 1)\n",
        "\n",
        "        return self.item_user_matrix.index[indices[0][1:]]\n",
        "\n",
        "    @property\n",
        "    def similar_videos(self) -> np.ndarray:\n",
        "        if self._similar_videos is None:\n",
        "            self._similar_videos = self.find_similar_items()\n",
        "        return self._similar_videos\n"
      ],
      "metadata": {
        "id": "7YHQSIA--uTf"
      },
      "execution_count": 19,
      "outputs": []
    },
    {
      "cell_type": "code",
      "source": [
        "class IUserInteractionFetcher(ABC):\n",
        "    @abstractmethod\n",
        "    def get_interacted_items(self, user_id: int) -> List[int]:\n",
        "        pass\n",
        "\n",
        "class UserInteractionFetcher(IUserInteractionFetcher):\n",
        "    def __init__(self, user_item_matrix: pd.DataFrame, user_checker: IUserInteractionChecker):\n",
        "        self.user_item_matrix = user_item_matrix\n",
        "        self.user_checker = user_checker\n",
        "\n",
        "    def get_interacted_items(self, user_id: int) -> List[int]:\n",
        "        self.user_checker.check_user_interaction(user_id, self.user_item_matrix)\n",
        "\n",
        "        user_interactions = self.user_item_matrix.loc[user_id]\n",
        "        return user_interactions[user_interactions > 0].index.tolist()"
      ],
      "metadata": {
        "id": "wDxTaZGWFWsL"
      },
      "execution_count": 20,
      "outputs": []
    },
    {
      "cell_type": "code",
      "source": [
        "class IItemScoreAccumulator(ABC):\n",
        "    @abstractmethod\n",
        "    def reset(self) -> None:\n",
        "        pass\n",
        "\n",
        "    @abstractmethod\n",
        "    def accumulate(self, similar_items: Iterable[int], interacted_items: Iterable[int]) -> None:\n",
        "        pass\n",
        "\n",
        "    @abstractmethod\n",
        "    def get_scores(self) -> Dict[int, float]:\n",
        "        pass\n",
        "\n",
        "class ItemScoreAccumulator(IItemScoreAccumulator):\n",
        "    def __init__(self):\n",
        "        self._scores = {}\n",
        "\n",
        "    def reset(self) -> None:\n",
        "        self._scores.clear()\n",
        "\n",
        "    def accumulate(self, similar_items: Iterable[int], interacted_items: Iterable[int]) -> None:\n",
        "        for item in similar_items:\n",
        "            if item not in interacted_items:\n",
        "                self._scores[item] = self._scores.get(item, 0) + 1  # Simple count-based score\n",
        "\n",
        "    def get_scores(self) -> Dict[int, float]:\n",
        "        return self._scores\n"
      ],
      "metadata": {
        "id": "KCrLPCU7FYsl"
      },
      "execution_count": 25,
      "outputs": []
    },
    {
      "cell_type": "code",
      "source": [
        "class IRecommendationRanker(ABC):\n",
        "    @abstractmethod\n",
        "    def rank(self, item_scores: Dict[int, float], top_n: int) -> List[int]:\n",
        "        pass\n",
        "\n",
        "class RecommendationRanker(IRecommendationRanker):\n",
        "    def rank(self, item_scores: Dict[int, float], top_n: int) -> List[int]:\n",
        "        sorted_items = sorted(item_scores.items(), key=lambda x: x[1], reverse=True)\n",
        "        return [item for item, _ in sorted_items[:top_n]]"
      ],
      "metadata": {
        "id": "u1xeBmHdFgKb"
      },
      "execution_count": 26,
      "outputs": []
    },
    {
      "cell_type": "code",
      "source": [
        "class ItemBasedRecommender:\n",
        "    def __init__(self, user_id: int, user_item_matrix: pd.DataFrame,\n",
        "                 similarity_finder: IItemSimilarityFinder, score_accumulator: IItemScoreAccumulator,\n",
        "                 interaction_fetcher: IUserInteractionFetcher, ranker: IRecommendationRanker):\n",
        "        self.user_id = user_id\n",
        "        self.user_item_matrix = user_item_matrix\n",
        "        self.similarity_finder = similarity_finder\n",
        "        self.score_accumulator = score_accumulator\n",
        "        self.interaction_fetcher = interaction_fetcher\n",
        "        self.ranker = ranker\n",
        "\n",
        "    def recommend(self, top_n: int = 5) -> List[int]:\n",
        "        if self.user_id not in self.user_item_matrix.index:\n",
        "            raise ValueError(f\"User ID {self.user_id} not found in matrix.\")\n",
        "\n",
        "        # Fetch items the user has interacted with using UserInteractionFetcher\n",
        "        interacted_items = self.interaction_fetcher.get_interacted_items(self.user_id)\n",
        "\n",
        "        # Reset the scores accumulator\n",
        "        self.score_accumulator.reset()\n",
        "\n",
        "        # For each item the user interacted with, find similar items and accumulate scores\n",
        "        for item in interacted_items:\n",
        "            similar_items = self.similarity_finder.find_similar_items(item)\n",
        "            self.score_accumulator.accumulate(similar_items, interacted_items)\n",
        "\n",
        "        # Get the accumulated scores and use the ranker to rank the items\n",
        "        item_scores = self.score_accumulator.get_scores()\n",
        "        ranked_items = self.ranker.rank(item_scores, top_n)\n",
        "\n",
        "        return ranked_items"
      ],
      "metadata": {
        "id": "BYasmfzC--b-"
      },
      "execution_count": 27,
      "outputs": []
    },
    {
      "cell_type": "code",
      "source": [
        "def main():\n",
        "    Dataset_path = \"/content/modified_video_recommendation_dataset.csv\"\n",
        "    df = DataPreparingManager(Load_and_shuffle_Dataset, Dataset_path, InteractionScorer)\n",
        "    df = df.prepare_data()\n",
        "\n",
        "    user_item_builder = UserItemMatrix(df, row=\"user_id\", column=\"video_id\", values=\"interaction_score\")\n",
        "    user_item_matrix = user_item_builder.matrix\n",
        "    item_user_matrix = user_item_matrix.T\n",
        "\n",
        "    user_sparse_converter = SparseMatrixConverter(user_item_matrix)\n",
        "    user_sparse_matrix = user_sparse_converter.sparse_matrix\n",
        "    item_sparse_converter = SparseMatrixConverter(item_user_matrix)\n",
        "    item_sparse_matrix = item_sparse_converter.sparse_matrix\n",
        "\n",
        "    user_knn_trainer = KNNModelTrainer(sparse_matrix=user_sparse_matrix, metric='cosine', algorithm='brute')\n",
        "    user_knn_model = user_knn_trainer.model\n",
        "    item_knn_trainer = KNNModelTrainer(sparse_matrix=item_sparse_matrix, metric='cosine', algorithm='brute')\n",
        "    item_knn_model = item_knn_trainer.model\n",
        "\n",
        "    target_user_id = 1  # Replace with dynamic input if needed\n",
        "\n",
        "    # ---- User-Based Recommendation ----\n",
        "    user_checker = UserInteractionChecker()\n",
        "    user_index_finder = UserIndexFinder(user_id=target_user_id,\n",
        "                                        user_item_matrix=user_item_matrix,\n",
        "                                        user_check=user_checker)\n",
        "\n",
        "    similar_user_finder = SimilarUserFinder(user_id=target_user_id,\n",
        "                                            knn_model=user_knn_model,\n",
        "                                            user_item_matrix=user_item_matrix,\n",
        "                                            user_index=user_index_finder,\n",
        "                                            user_check=user_checker)\n",
        "\n",
        "    user_recommender = UserBasedRecommender(user_id=target_user_id,\n",
        "                                            user_item_matrix=user_item_matrix,\n",
        "                                            similar_user_finder=similar_user_finder)\n",
        "\n",
        "    user_recommendations = user_recommender.recommend(top_n=3)\n",
        "    print(f\"User-Based Recommendations for User {target_user_id}: {user_recommendations}\")\n",
        "\n",
        "    # ---- Item-Based Recommendation using ItemBasedRecommender ----\n",
        "    # Dependencies\n",
        "    interaction_checker = UserInteractionChecker()\n",
        "    interaction_fetcher = UserInteractionFetcher(user_item_matrix=user_item_matrix,\n",
        "                                                 user_checker=interaction_checker)\n",
        "    score_accumulator = ItemScoreAccumulator()\n",
        "    ranker = RecommendationRanker()\n",
        "\n",
        "    # We'll pass the entire item-user matrix and model to a custom similarity finder adapter\n",
        "    class ItemSimilarityAdapter(IItemSimilarityFinder):\n",
        "        def __init__(self, item_user_matrix, knn_model):\n",
        "            self.item_user_matrix = item_user_matrix\n",
        "            self.knn_model = knn_model\n",
        "\n",
        "        def find_similar_items(self, item_id: int, n_neighbors: int = 5) -> List[int]:\n",
        "            if item_id not in self.item_user_matrix.index:\n",
        "                raise InvalidVideoIdError(item_id)\n",
        "\n",
        "            item_vector = self.item_user_matrix.loc[item_id].values.reshape(1, -1)\n",
        "            distances, indices = self.knn_model.kneighbors(item_vector, n_neighbors=n_neighbors + 1)\n",
        "            return self.item_user_matrix.index[indices[0][1:]].tolist()\n",
        "\n",
        "    similarity_finder = ItemSimilarityAdapter(item_user_matrix, item_knn_model)\n",
        "\n",
        "    item_recommender = ItemBasedRecommender(user_id=target_user_id,\n",
        "                                            user_item_matrix=user_item_matrix,\n",
        "                                            similarity_finder=similarity_finder,\n",
        "                                            score_accumulator=score_accumulator,\n",
        "                                            interaction_fetcher=interaction_fetcher,\n",
        "                                            ranker=ranker)\n",
        "\n",
        "    item_recommendations = item_recommender.recommend(top_n=3)\n",
        "    print(f\"Item-Based Recommendations for User {target_user_id}: {item_recommendations}\")\n",
        "\n",
        "if __name__ == \"__main__\":\n",
        "    main()\n"
      ],
      "metadata": {
        "colab": {
          "base_uri": "https://localhost:8080/"
        },
        "id": "HxtL1AFvkdyH",
        "outputId": "2b310367-238d-4cfe-db50-52244a62b315"
      },
      "execution_count": 37,
      "outputs": [
        {
          "output_type": "stream",
          "name": "stdout",
          "text": [
            "User-Based Recommendations for User 1: [644, 3694, 1312]\n",
            "Item-Based Recommendations for User 1: [3317, 2179, 754]\n"
          ]
        }
      ]
    },
    {
      "cell_type": "markdown",
      "source": [
        "# **Content Filter**"
      ],
      "metadata": {
        "id": "mbCxp82kpJDs"
      }
    },
    {
      "cell_type": "code",
      "source": [],
      "metadata": {
        "id": "hmukSJS5pSZ5"
      },
      "execution_count": null,
      "outputs": []
    },
    {
      "cell_type": "markdown",
      "source": [
        "# Recommendation System Error Exceptions"
      ],
      "metadata": {
        "id": "Lu9nXysud7QR"
      }
    },
    {
      "cell_type": "code",
      "source": [
        "class RecommendationSystemError(Exception):\n",
        "    \"\"\"Base class for all exceptions in the recommendation system.\"\"\"\n",
        "    pass\n",
        "\n",
        "class InvalidMatrixError(RecommendationSystemError):\n",
        "    \"\"\"Raised when a matrix is invalid or does not meet the required conditions.\"\"\"\n",
        "\n",
        "    def __init__(self, message=\"Matrix is invalid\"):\n",
        "        self.message = message\n",
        "        super().__init__(self.message)\n",
        "\n",
        "class InvalidUserIdError(RecommendationSystemError):\n",
        "    \"\"\"Raised when a user ID is not found in the system.\"\"\"\n",
        "\n",
        "    def __init__(self, user_id, message=\"User ID not found\"):\n",
        "        self.user_id = user_id\n",
        "        self.message = f\"{message}: {user_id}\"\n",
        "        super().__init__(self.message)\n",
        "\n",
        "class TrainingError(RecommendationSystemError):\n",
        "    \"\"\"Raised when an error occurs during model training.\"\"\"\n",
        "\n",
        "    def __init__(self, message=\"Model training failed\"):\n",
        "        self.message = message\n",
        "        super().__init__(self.message)\n",
        "\n",
        "class InvalidVideoIdError(RecommendationSystemError):\n",
        "  \"\"\"Raised when a video ID is not found in the system.\"\"\"\n",
        "\n",
        "  def __init__(self, video_id, message=\"Video ID not found\"):\n",
        "      self.video_id = video_id\n",
        "      self.message = f\"{message}: {video_id}\"\n",
        "      super().__init__(self.message)"
      ],
      "metadata": {
        "id": "6auDiQcsdsxW"
      },
      "execution_count": null,
      "outputs": []
    },
    {
      "cell_type": "code",
      "source": [],
      "metadata": {
        "id": "XNE5tkFwRM5-"
      },
      "execution_count": null,
      "outputs": []
    }
  ]
}